{
 "cells": [
  {
   "cell_type": "code",
   "execution_count": null,
   "id": "6f1ac994-de76-4297-ab39-e3aa06a6e6e1",
   "metadata": {
    "vscode": {
     "languageId": "c++"
    }
   },
   "outputs": [],
   "source": [
    "#include \"config.h\" // Generated after cmake configuration step"
   ]
  },
  {
   "cell_type": "code",
   "execution_count": null,
   "id": "bec92b76-7556-405a-89c3-1250be61fa5d",
   "metadata": {
    "vscode": {
     "languageId": "c++"
    }
   },
   "outputs": [],
   "source": [
    "#include <iostream>"
   ]
  },
  {
   "cell_type": "code",
   "execution_count": null,
   "id": "eba205a0-b8b0-4798-9868-a26874e00407",
   "metadata": {
    "vscode": {
     "languageId": "c++"
    }
   },
   "outputs": [
    {
     "name": "stdout",
     "output_type": "stream",
     "text": [
      "Module name: dune-book\n",
      "Module maintainer: caznaranl@uni.pe\n",
      "Module version: 0.1\n"
     ]
    }
   ],
   "source": [
    "std::cout << \"Module name: \" << PACKAGE_NAME << std::endl\n",
    "          << \"Module maintainer: \" << PACKAGE_BUGREPORT << std::endl\n",
    "          << \"Module version: \" << PACKAGE_VERSION << std::endl;"
   ]
  },
  {
   "cell_type": "code",
   "execution_count": null,
   "id": "3bd036c1-bc22-40bf-919d-d1d646bedcaa",
   "metadata": {
    "vscode": {
     "languageId": "c++"
    }
   },
   "outputs": [
    {
     "name": "stdout",
     "output_type": "stream",
     "text": [
      "dune-common-version: 2.9.1\n",
      "dune-geometry-version: 2.9.1\n",
      "dune-grid-version: 2.9.1\n",
      "dune-uggrid-version: 2.9.1\n",
      "dune-istl-version: 2.9.1\n",
      "dune-typetree-version: 2.9.1\n",
      "dune-localfunctions-version: 2.9.1\n",
      "dune-functions-version: 2.9.1\n",
      "dune-pdelab-version: 2.8\n"
     ]
    }
   ],
   "source": [
    "std::cout << \"dune-common-version: \" << DUNE_COMMON_VERSION << std::endl\n",
    "          << \"dune-geometry-version: \" << DUNE_GEOMETRY_VERSION << std::endl\n",
    "          << \"dune-grid-version: \" << DUNE_GRID_VERSION << std::endl\n",
    "          << \"dune-uggrid-version: \" << DUNE_UGGRID_VERSION << std::endl\n",
    "          << \"dune-istl-version: \" << DUNE_ISTL_VERSION << std::endl\n",
    "          << \"dune-typetree-version: \" << DUNE_TYPETREE_VERSION << std::endl\n",
    "          << \"dune-localfunctions-version: \" << DUNE_LOCALFUNCTIONS_VERSION\n",
    "          << std::endl\n",
    "          << \"dune-functions-version: \" << DUNE_FUNCTIONS_VERSION << std::endl\n",
    "          << \"dune-pdelab-version: \" << DUNE_PDELAB_VERSION << std::endl;"
   ]
  },
  {
   "cell_type": "code",
   "execution_count": null,
   "id": "90088127-a259-4ffd-bb1a-2bef05f6cd48",
   "metadata": {
    "vscode": {
     "languageId": "c++"
    }
   },
   "outputs": [],
   "source": [
    "std::cout << \"Hello!\" << std::endl"
   ]
  },
  {
   "cell_type": "code",
   "execution_count": null,
   "id": "582f810d",
   "metadata": {
    "vscode": {
     "languageId": "plaintext"
    }
   },
   "outputs": [],
   "source": []
  }
 ],
 "metadata": {
  "kernelspec": {
   "display_name": "C++17 (xeus)",
   "language": "C++17",
   "name": "xcpp17"
  },
  "language_info": {
   "codemirror_mode": "text/x-c++src",
   "file_extension": ".cpp",
   "mimetype": "text/x-c++src",
   "name": "C++17",
   "version": "17"
  }
 },
 "nbformat": 4,
 "nbformat_minor": 5
}
